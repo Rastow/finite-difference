{
 "cells": [
  {
   "cell_type": "code",
   "execution_count": 10,
   "metadata": {
    "collapsed": true
   },
   "outputs": [
    {
     "data": {
      "text/plain": "{-2: -0.0833333333333333,\n -1: 1.3333333333333328,\n 0: -2.4999999999999996,\n 1: 1.3333333333333333,\n 2: -0.08333333333333333}"
     },
     "execution_count": 10,
     "metadata": {},
     "output_type": "execute_result"
    }
   ],
   "source": [
    "from finite_difference.coefficients import one_dimensional_coefficients\n",
    "\n",
    "offsets = [-2, -1, 0, 1, 2]\n",
    "order = 2\n",
    "coefficients = one_dimensional_coefficients(offsets, order)\n",
    "coefficients"
   ]
  },
  {
   "cell_type": "code",
   "execution_count": 12,
   "outputs": [
    {
     "data": {
      "text/plain": "array([ 2.22044605e-16,  0.00000000e+00, -4.44089210e-16, -8.00000000e+00,\n       -1.77635684e-15, -4.00000000e+01, -1.42108547e-14, -1.68000000e+02])"
     },
     "execution_count": 12,
     "metadata": {},
     "output_type": "execute_result"
    }
   ],
   "source": [
    "from finite_difference.coefficients import one_dimensional_error\n",
    "\n",
    "one_dimensional_error(coefficients, order, 11)"
   ],
   "metadata": {
    "collapsed": false
   }
  }
 ],
 "metadata": {
  "kernelspec": {
   "display_name": "Python 3",
   "language": "python",
   "name": "python3"
  },
  "language_info": {
   "codemirror_mode": {
    "name": "ipython",
    "version": 2
   },
   "file_extension": ".py",
   "mimetype": "text/x-python",
   "name": "python",
   "nbconvert_exporter": "python",
   "pygments_lexer": "ipython2",
   "version": "2.7.6"
  }
 },
 "nbformat": 4,
 "nbformat_minor": 0
}
